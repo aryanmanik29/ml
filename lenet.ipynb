{
  "nbformat": 4,
  "nbformat_minor": 0,
  "metadata": {
    "colab": {
      "provenance": [],
      "authorship_tag": "ABX9TyMH6EfGMYI7PFOm05v/Mqro",
      "include_colab_link": true
    },
    "kernelspec": {
      "name": "python3",
      "display_name": "Python 3"
    },
    "language_info": {
      "name": "python"
    }
  },
  "cells": [
    {
      "cell_type": "markdown",
      "metadata": {
        "id": "view-in-github",
        "colab_type": "text"
      },
      "source": [
        "<a href=\"https://colab.research.google.com/github/aryanmanik29/ml/blob/main/lenet.ipynb\" target=\"_parent\"><img src=\"https://colab.research.google.com/assets/colab-badge.svg\" alt=\"Open In Colab\"/></a>"
      ]
    },
    {
      "cell_type": "code",
      "execution_count": 1,
      "metadata": {
        "id": "jTl3mi_qXn4_"
      },
      "outputs": [],
      "source": [
        "import tensorflow as tf"
      ]
    },
    {
      "cell_type": "code",
      "source": [
        "import sklearn"
      ],
      "metadata": {
        "id": "pv__31c2ZgqQ"
      },
      "execution_count": 2,
      "outputs": []
    },
    {
      "cell_type": "code",
      "source": [
        "from tensorflow import keras"
      ],
      "metadata": {
        "id": "nnhRyf3gZi6F"
      },
      "execution_count": 4,
      "outputs": []
    },
    {
      "cell_type": "code",
      "source": [
        "from functools import partial"
      ],
      "metadata": {
        "id": "AsZW9PTAZtwu"
      },
      "execution_count": 5,
      "outputs": []
    },
    {
      "cell_type": "code",
      "source": [
        "DefaultConv2D=partial(keras.layers.Conv2D,kernel_size=3,activation=\"tanh\",padding=\"SAME\")"
      ],
      "metadata": {
        "id": "O2prUcW0aYP3"
      },
      "execution_count": 6,
      "outputs": []
    },
    {
      "cell_type": "code",
      "source": [
        "model=keras.models.Sequential([keras.layers.Input(shape=(32, 32, 1)),DefaultConv2D(filters=6,kernel_size=1,input_shape=[28,28,1]),keras.layers.AveragePooling2D(pool_size=(2, 2), strides=(2, 2), input_shape=(32, 32, 6),\n",
        "    Activation('tanh')),DefaultConv2D(filters=16,kernel_size=5),keras.layers.AveragePooling2D(pool_size=(2,2),strides=(2,2),Activation('tanh')),DefaultConv2D(filters=120,kernel_size=5),keras.layers.Flatten(),keras.layers.Dense(units=84,activation=\"tanh\"),keras.layers.Dense(units=10,actiation=\"RBF\")])"
      ],
      "metadata": {
        "colab": {
          "base_uri": "https://localhost:8080/",
          "height": 144
        },
        "id": "RB-6fYrbbMF2",
        "outputId": "cf425c72-f0a6-49d6-b43c-f13af0781335"
      },
      "execution_count": 16,
      "outputs": [
        {
          "output_type": "error",
          "ename": "SyntaxError",
          "evalue": "positional argument follows keyword argument (<ipython-input-16-3729de077da6>, line 2)",
          "traceback": [
            "\u001b[0;36m  File \u001b[0;32m\"<ipython-input-16-3729de077da6>\"\u001b[0;36m, line \u001b[0;32m2\u001b[0m\n\u001b[0;31m    Activation('tanh')),DefaultConv2D(filters=16,kernel_size=5),keras.layers.AveragePooling2D(pool_size=(2,2),strides=(2,2),Activation('tanh')),DefaultConv2D(filters=120,kernel_size=5),keras.layers.Flatten(),keras.layers.Dense(units=84,activation=\"tanh\"),keras.layers.Dense(units=10,actiation=\"RBF\")])\u001b[0m\n\u001b[0m                      ^\u001b[0m\n\u001b[0;31mSyntaxError\u001b[0m\u001b[0;31m:\u001b[0m positional argument follows keyword argument\n"
          ]
        }
      ]
    },
    {
      "cell_type": "markdown",
      "source": [],
      "metadata": {
        "id": "4PVSBrDkZ66G"
      }
    }
  ]
}